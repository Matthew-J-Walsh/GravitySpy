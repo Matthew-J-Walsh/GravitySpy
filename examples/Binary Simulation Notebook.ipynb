{
 "cells": [
  {
   "cell_type": "code",
   "execution_count": 1,
   "metadata": {
    "scrolled": false
   },
   "outputs": [
    {
     "name": "stderr",
     "output_type": "stream",
     "text": [
      "/home/gspy/anaconda3/envs/py27/lib/python2.7/site-packages/h5py/__init__.py:36: FutureWarning: Conversion of the second argument of issubdtype from `float` to `np.floating` is deprecated. In future, it will be treated as `np.float64 == np.dtype(float).type`.\n",
      "  from ._conv import register_converters as _register_converters\n"
     ]
    },
    {
     "data": {
      "application/vnd.jupyter.widget-view+json": {
       "model_id": "091f610d5c9c424cae508a394367178a",
       "version_major": 2,
       "version_minor": 0
      },
      "text/plain": [
       "aW50ZXJhY3RpdmUoY2hpbGRyZW49KEludFNsaWRlcih2YWx1ZT01LCBkZXNjcmlwdGlvbj11J20xJywgbWF4PTE1MCwgbWluPTUsIHN0ZXA9NSksIEludFNsaWRlcih2YWx1ZT01LCBkZXNjcmnigKY=\n"
      ]
     },
     "metadata": {},
     "output_type": "display_data"
    },
    {
     "data": {
      "application/vnd.jupyter.widget-view+json": {
       "model_id": "6c1cdbf82e91410086f30cd553038f34",
       "version_major": 2,
       "version_minor": 0
      },
      "text/plain": [
       "Button(description=u'Lock to View', style=ButtonStyle())"
      ]
     },
     "metadata": {},
     "output_type": "display_data"
    },
    {
     "data": {
      "application/vnd.jupyter.widget-view+json": {
       "model_id": "34b7118fbd9842fc8574e23f831cbf43",
       "version_major": 2,
       "version_minor": 0
      },
      "text/plain": [
       "Button(description=u'Save to Training Set', style=ButtonStyle())"
      ]
     },
     "metadata": {},
     "output_type": "display_data"
    }
   ],
   "source": [
    "from IPython.display import Image\n",
    "from __future__ import print_function\n",
    "from ipywidgets import interact, interactive, fixed, interact_manual\n",
    "import ipywidgets as widgets\n",
    "import builddemo\n",
    "import math\n",
    "#from numpy import random\n",
    "#from gwpy.timeseries import TimeSeries\n",
    "\n",
    "#SAMPLE_RATE = 16384\n",
    "#baseTime = 1161907217\n",
    "#plotTimeRanges = [0.5, 1.0, 2.0, 4.0]\n",
    "#plotNormalizedERange = [0, 25.5]\n",
    "#detectorName = 'H1'\n",
    "#searchQRange = [4, 64]\n",
    "#searchFrequencyRange = [10, 2048]\n",
    "#majorfolder = \"Simulated_binaries_for_demonstration/\"\n",
    "#timeseriesfolder = majorfolder + \"Timescale/\"\n",
    "#spectrogramsfolder = majorfolder + \"Spectrogram/\"\n",
    "#visualfolder = majorfolder + \"VisualRepresentation/\"\n",
    "#\n",
    "#noise = 1e-21*TimeSeries(random.normal(scale=.1, size=16384*100), sample_rate=16384)\n",
    "\n",
    "appro = 'IMRPhenomPv2'\n",
    "\n",
    "lastImageLocs = [\n",
    "    \"nil\",\n",
    "    \"nil\",\n",
    "    \"nil\",\n",
    "    \"nil\",\n",
    "    \"nil\",\n",
    "    \"nil\",\n",
    "    \"nil\",\n",
    "    \"nil\"\n",
    "]\n",
    "currentImageLocs = lastImageLocs\n",
    "lastInputs = [-1,-1,-1,-1,-1,-1,-1,-1,-1,-1,-1,-1]\n",
    "\n",
    "def update_inspect(m1, m2, d=1000, s1x=0, s1y=0, s1z=0, s2x=0, s2y=0, s2z=0, ecc=0, inc=0, overwrite=0):\n",
    "    global lastInputs\n",
    "    lastInputs = [m1, m2, d, s1x, s1y, s1z, s2x, s2y, s2z, ecc, inc]\n",
    "    createdisplay(overwrite)\n",
    "\n",
    "def createdisplay(overwrite):\n",
    "    global lastImageLocs, currentImageLocs, lastInputs\n",
    "    #demoid = detectorName+\"-\"+str(m1)+\"-\"+str(m2)\n",
    "    [m1, m2, d, s1x, s1y, s1z, s2x, s2y, s2z, ecc, inc] = lastInputs\n",
    "    imglocs = builddemo.gendemo(appro, m1, m2, d=d, s1x=s1x, s1y=s1y, s1z=s1z, s2x=s2x, s2y=s2y, s2z=s2z, \n",
    "                                ecc=ecc, inc=inc, overwrite=overwrite)\n",
    "    timeserieslocp, timeserieslocn, superfigloc, subfiglocs, visualreploc = imglocs\n",
    "    subfig1, subfig2, subfig3, subfig4 = subfiglocs\n",
    "    currentImageLocs = [\n",
    "        superfigloc,\n",
    "        timeserieslocp,\n",
    "        timeserieslocn,\n",
    "        visualreploc,\n",
    "        subfig1,\n",
    "        subfig2,\n",
    "        subfig3,\n",
    "        subfig4\n",
    "    ]\n",
    "    intertwinedImageLocs = [\n",
    "        currentImageLocs[0],\n",
    "        lastImageLocs[0],\n",
    "        currentImageLocs[1],\n",
    "        lastImageLocs[1],\n",
    "        currentImageLocs[2],\n",
    "        lastImageLocs[2],\n",
    "        currentImageLocs[3],\n",
    "        lastImageLocs[3],\n",
    "        currentImageLocs[4],\n",
    "        lastImageLocs[4],\n",
    "        currentImageLocs[5],\n",
    "        lastImageLocs[5],\n",
    "        currentImageLocs[6],\n",
    "        lastImageLocs[6],\n",
    "        currentImageLocs[7],\n",
    "        lastImageLocs[7]\n",
    "    ]\n",
    "    for imageLoc in intertwinedImageLocs:\n",
    "        if imageLoc!=\"nil\":\n",
    "            display(Image(imageLoc))\n",
    "    #return Image('zobv'+str(x)+'.png', width = 400), Image('zobv'+str(x)+'.png', width = 400)    \n",
    "\n",
    "images = interact_manual(update_inspect, \n",
    "                         m1=widgets.IntSlider(min=5,max=150,step=5,value=5), \n",
    "                         m2=widgets.IntSlider(min=5,max=150,step=5,value=5), \n",
    "                         d=widgets.FloatLogSlider(min=-5,max=5,step=0.2,value=1000,base=10),\n",
    "                         s1x=widgets.FloatSlider(min=0,max=1,step=.05,value=0),\n",
    "                         s1y=widgets.FloatSlider(min=0,max=1,step=.05,value=0),\n",
    "                         s1z=widgets.FloatSlider(min=0,max=1,step=.05,value=0),\n",
    "                         s2x=widgets.FloatSlider(min=0,max=1,step=.05,value=0),\n",
    "                         s2y=widgets.FloatSlider(min=0,max=1,step=.05,value=0),\n",
    "                         s2z=widgets.FloatSlider(min=0,max=1,step=.05,value=0),\n",
    "                         ecc=widgets.FloatSlider(min=0,max=1,step=.05,value=0),\n",
    "                         inc=widgets.FloatSlider(min=0,max=math.pi,step=math.pi/20,value=0))\n",
    "\n",
    "def lock_old_imgs(b):\n",
    "    global lastImageLocs, currentImageLocs\n",
    "    lastImageLocs = currentImageLocs\n",
    "    images.widget.update()\n",
    "    \n",
    "def save_to_training(b):\n",
    "    global currentImageLocs\n",
    "    [m1, m2, d, s1x, s1y, s1z, s2x, s2y, s2z, ecc, inc] = lastInputs\n",
    "    builddemo.converttotraining(appro, m1, m2, d=d, s1x=s1x, s1y=s1y, s1z=s1z, s2x=s2x, s2y=s2y, s2z=s2z, ecc=ecc, inc=inc)\n",
    "\n",
    "lockimgbut = widgets.Button(description=\"Lock to View\")\n",
    "lockimgbut.on_click(lock_old_imgs)\n",
    "savetotrainingsetbut = widgets.Button(description=\"Save to Training Set\")\n",
    "savetotrainingsetbut.on_click(save_to_training)\n",
    "\n",
    "display(lockimgbut)\n",
    "display(savetotrainingsetbut)"
   ]
  },
  {
   "cell_type": "code",
   "execution_count": null,
   "metadata": {},
   "outputs": [],
   "source": [
    "currentImageLocs"
   ]
  },
  {
   "cell_type": "code",
   "execution_count": null,
   "metadata": {},
   "outputs": [],
   "source": [
    "from pycbc.waveform.waveform import td_approximants\n",
    "td_approximants()"
   ]
  },
  {
   "cell_type": "code",
   "execution_count": null,
   "metadata": {},
   "outputs": [],
   "source": [
    "from PIL import Image, ImageDraw\n",
    "img = Image.new('RGB', (500, 500), color = 'white')\n",
    "d = ImageDraw.Draw(img)\n",
    "d.pieslice([140,240,160,260],0,360,fill='black',outline='black')\n",
    "d.pieslice([340,240,360,260],0,360,fill='black',outline='black')\n",
    "distance = 1235\n",
    "d.text([150,40], 'distance = '+str(distance)+' AUs',fill='black')\n",
    "img.save('testimg.png')"
   ]
  },
  {
   "cell_type": "code",
   "execution_count": null,
   "metadata": {},
   "outputs": [],
   "source": [
    "import datetime\n",
    "dir(datetime.datetime.now())"
   ]
  },
  {
   "cell_type": "code",
   "execution_count": null,
   "metadata": {},
   "outputs": [],
   "source": [
    "math.pi"
   ]
  },
  {
   "cell_type": "code",
   "execution_count": null,
   "metadata": {},
   "outputs": [],
   "source": [
    "from IPython.display import Image\n",
    "from __future__ import print_function\n",
    "from ipywidgets import interact, interactive, fixed, interact_manual, HBox, VBox, Button\n",
    "import ipywidgets as widgets\n",
    "import math\n",
    "\n",
    "def f(x):\n",
    "    return x\n",
    "\n",
    "def g(y):\n",
    "    return math.pow(y,y)\n",
    "\n",
    "box = HBox([interact(f, x=10),interact(g, y=5)])\n",
    "\n",
    "words = ['correct', 'horse', 'battery', 'staple']\n",
    "items = [Button(description=w) for w in words]\n",
    "left_box = VBox([items[0], items[1]])\n",
    "right_box = VBox([items[2], items[3]])\n",
    "HBox([left_box, right_box])"
   ]
  },
  {
   "cell_type": "code",
   "execution_count": null,
   "metadata": {},
   "outputs": [],
   "source": [
    "from ipywidgets import interact, interactive, fixed, interact_manual, HBox, VBox, Button\n",
    "\n",
    "a = widgets.IntSlider(description=\"Delayed\", continuous_update=False)\n",
    "#b = widgets.IntText(description=\"Delayed\", continuous_update=False)\n",
    "c = widgets.IntSlider(description=\"Continuous\", continuous_update=True)\n",
    "#d = widgets.IntText(description=\"Continuous\", continuous_update=True)\n",
    "\n",
    "outp = widgets.Text()\n",
    "\n",
    "def f(x):\n",
    "    outp.value = str(x)\n",
    "    return x\n",
    "\n",
    "def g(x,y):\n",
    "    outp.value = str(math.pow(x,y))\n",
    "    return math.pow(x,y)\n",
    "\n",
    "interf = interact_manual(f, x=a)\n",
    "inter = interact_manual(g, x=a, y=c)\n",
    "\n",
    "\n",
    "#widgets.link((a, 'value'), (b, 'value'))\n",
    "#widgets.link((a, 'value'), (c, 'value'))\n",
    "#widgets.link((a, 'value'), (d, 'value'))\n",
    "outp"
   ]
  },
  {
   "cell_type": "code",
   "execution_count": null,
   "metadata": {},
   "outputs": [],
   "source": [
    "dir(inter.widget)"
   ]
  },
  {
   "cell_type": "code",
   "execution_count": null,
   "metadata": {},
   "outputs": [],
   "source": [
    "button = widgets.Button(description=\"checkem\")\n",
    "display(button)"
   ]
  },
  {
   "cell_type": "code",
   "execution_count": null,
   "metadata": {},
   "outputs": [],
   "source": [
    "inter.widget.keys"
   ]
  },
  {
   "cell_type": "code",
   "execution_count": null,
   "metadata": {},
   "outputs": [],
   "source": []
  }
 ],
 "metadata": {
  "kernelspec": {
   "display_name": "Python 2",
   "language": "python",
   "name": "python2"
  },
  "language_info": {
   "codemirror_mode": {
    "name": "ipython",
    "version": 2
   },
   "file_extension": ".py",
   "mimetype": "text/x-python",
   "name": "python",
   "nbconvert_exporter": "python",
   "pygments_lexer": "ipython2",
   "version": "2.7.15"
  }
 },
 "nbformat": 4,
 "nbformat_minor": 2
}
